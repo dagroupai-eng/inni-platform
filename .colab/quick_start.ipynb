{
  "cells": [
    {
      "cell_type": "markdown",
      "metadata": {},
      "source": [
        "# 🏗️ Simple Arch Insight - Colab 버전\n",
        "\n",
        "> **Google Colab에서 바로 사용할 수 있는 건축 프로젝트 PDF 분석 도구**\n",
        "\n",
        "## 🚀 빠른 시작\n",
        "\n",
        "이 노트북을 실행하면 바로 건축 프로젝트 PDF 분석을 시작할 수 있습니다!\n",
        "\n",
        "### ✨ 주요 기능\n",
        "- **Gemini 1.5 Pro**: Google의 최신 AI 모델 (무료)\n",
        "- **Gemini CoT**: DSPy 기반 Chain of Thought 분석 (무료)\n",
        "- **5개 분석 블록**: 기본 정보, 요구사항, 설계 제안 등\n",
        "- **멀티모달**: 텍스트 + 이미지 동시 분석\n",
        "- **통계 대시보드**: 분석 결과 시각화\n",
        "- **사용자 정의 블록**: 추가/제거/저장/불러오기\n"
      ]
    },
    {
      "cell_type": "markdown",
      "metadata": {},
      "source": [
        "## 📦 1단계: 필요한 패키지 설치\n"
      ]
    },
    {
      "cell_type": "code",
      "execution_count": null,
      "metadata": {},
      "outputs": [],
      "source": [
        "# 필요한 패키지 설치\n",
        "!pip install google-generativeai==0.3.2\n",
        "!pip install dspy-ai==2.6.27\n",
        "!pip install PyMuPDF==1.23.8\n",
        "!pip install plotly==6.3.0\n",
        "!pip install pandas==2.3.1\n",
        "\n",
        "print(\"✅ 모든 패키지 설치 완료!\")\n"
      ]
    },
    {
      "cell_type": "markdown",
      "metadata": {},
      "source": [
        "## 📚 2단계: 라이브러리 임포트\n"
      ]
    },
    {
      "cell_type": "code",
      "execution_count": null,
      "metadata": {},
      "outputs": [],
      "source": [
        "# Google Drive 마운트 및 경로 설정\n",
        "from google.colab import drive\n",
        "import sys\n",
        "\n",
        "# Google Drive 마운트\n",
        "drive.mount('/content/drive')\n",
        "\n",
        "# Google Drive 경로를 Python 경로에 추가\n",
        "sys.path.append('/content/drive/MyDrive/Colab Notebooks/colab')\n",
        "\n",
        "# 메인 앱 임포트\n",
        "from simple_arch_insight import run_simple_arch_insight\n",
        "\n",
        "print(\"✅ 라이브러리 임포트 완료!\")\n"
      ]
    },
    {
      "cell_type": "markdown",
      "metadata": {},
      "source": [
        "## 🔑 3단계: AI 모델 선택 및 API 키 설정\n",
        "\n",
        "### 🤖 사용 가능한 AI 모델\n",
        "\n",
        "#### 1. Gemini 1.5 Pro (무료, 기본)\n",
        "- **장점**: 무료, 월 1,500회 사용 가능\n",
        "- **특징**: 멀티모달 (텍스트+이미지), 빠른 응답\n",
        "- **API 키 발급**: [Google AI Studio](https://aistudio.google.com/app/apikey)\n",
        "\n",
        "#### 2. Gemini CoT (무료, 고품질)\n",
        "- **장점**: Chain of Thought 분석, 체계적 단계별 분석\n",
        "- **특징**: DSPy 기반, 심층 분석, 상세한 근거 제시\n",
        "- **API 키 발급**: [Google AI Studio](https://aistudio.google.com/app/apikey)\n",
        "\n",
        "### 💡 추천 사용법\n",
        "- **테스트/빠른 분석**: Gemini 기본 모델\n",
        "- **심층 분석/고품질**: Gemini CoT 모델\n",
        "- **동일한 API 키**: 두 모델 모두 같은 Gemini API 키 사용\n"
      ]
    },
    {
      "cell_type": "markdown",
      "metadata": {},
      "source": [
        "## 🚀 4단계: 앱 실행\n",
        "\n",
        "아래 셀을 실행하면 분석 도구가 시작됩니다!\n"
      ]
    },
    {
      "cell_type": "code",
      "execution_count": null,
      "metadata": {},
      "outputs": [],
      "source": [
        "# 메인 앱 실행\n",
        "app = run_simple_arch_insight()\n",
        "\n",
        "# 앱이 정상적으로 초기화되었는지 확인\n",
        "if app:\n",
        "    print(\"✅ 앱 초기화 완료!\")\n",
        "    print(\"💡 이제 아래 셀에서 PDF 분석을 시작할 수 있습니다.\")\n",
        "else:\n",
        "    print(\"❌ 앱 초기화에 실패했습니다.\")\n",
        "    print(\"💡 패키지 설치를 확인하고 다시 시도해주세요.\")\n"
      ]
    },
    {
      "cell_type": "markdown",
      "metadata": {},
      "source": [
        "## 📖 사용 방법\n",
        "\n",
        "### 1. AI 모델 선택 및 API 키 설정\n",
        "- **Gemini 기본**: 무료, 월 1,500회 (빠른 분석)\n",
        "- **Gemini CoT**: 무료, 월 1,500회 (고품질 분석)\n",
        "- 앱 실행 시 모델 선택 가능\n",
        "\n",
        "### 2. PDF 분석\n",
        "- **프로젝트명** 입력\n",
        "- **분석 블록** 선택 (다중 선택 가능)\n",
        "- **PDF 파일** 업로드\n",
        "\n",
        "### 3. 결과 확인\n",
        "- 분석 결과 즉시 확인\n",
        "- 통계 및 차트 확인\n",
        "\n",
        "## 📋 분석 블록\n",
        "\n",
        "1. **📋 기본 정보 추출**: 프로젝트명, 건축주, 위치, 규모\n",
        "2. **🏗️ 건축 요구사항 분석**: 공간, 기능, 법적, 기술적 요구사항\n",
        "3. **💡 설계 제안**: 설계 컨셉, 공간 계획, 기술적 제안\n",
        "4. **🚶 접근성 평가**: 교통, 보행, 시설 접근성\n",
        "5. **💰 사업성 평가**: 시장성, 수익성, 위험성 분석\n",
        "\n",
        "## ⚠️ 주의사항\n",
        "\n",
        "- **파일 크기**: PDF 파일은 50MB 이하 권장\n",
        "- **API 사용량**: \n",
        "  - Gemini 기본: 월 1,500회 무료\n",
        "  - Gemini CoT: 월 1,500회 무료 (동일한 할당량)\n",
        "- **세션 지속**: Colab 세션 종료 시 데이터 손실\n",
        "- **인터넷 연결**: 안정적인 인터넷 연결 필요\n",
        "- **CoT 분석**: DSPy 기반 체계적 분석으로 더 상세한 결과\n",
        "\n",
        "## 🎉 즐거운 분석 되세요!\n"
      ]
    },
    {
      "cell_type": "markdown",
      "metadata": {},
      "source": [
        "## 🚀 PDF 분석 시작하기\n",
        "\n",
        "아래 셀에서 실제 PDF 분석을 시작할 수 있습니다!\n"
      ]
    },
    {
      "cell_type": "code",
      "execution_count": null,
      "metadata": {},
      "outputs": [],
      "source": [
        "# PDF 분석 실행\n",
        "from analysis_runner import run_pdf_analysis\n",
        "\n",
        "# 앱 상태 확인\n",
        "if 'app' in globals() and app:\n",
        "    run_pdf_analysis(app)\n",
        "else:\n",
        "    print(\"❌ 앱이 초기화되지 않았습니다.\")\n",
        "    print(\"💡 먼저 위의 '메인 앱 실행' 셀을 실행해주세요.\")\n"
      ]
    },
    {
      "cell_type": "markdown",
      "metadata": {},
      "source": [
        "## 📊 분석 통계 확인\n",
        "\n",
        "분석이 완료되면 아래 셀에서 통계를 확인할 수 있습니다!\n"
      ]
    },
    {
      "cell_type": "code",
      "execution_count": null,
      "metadata": {},
      "outputs": [],
      "source": [
        "# 분석 통계 확인\n",
        "from analysis_runner import show_analysis_statistics\n",
        "\n",
        "# 앱 상태 확인\n",
        "if 'app' in globals() and app:\n",
        "    show_analysis_statistics(app)\n",
        "else:\n",
        "    print(\"❌ 앱이 초기화되지 않았습니다.\")\n",
        "    print(\"💡 먼저 위의 '메인 앱 실행' 셀을 실행해주세요.\")\n"
      ]
    },
    {
      "cell_type": "markdown",
      "metadata": {},
      "source": [
        "## 🔄 추가 분석\n",
        "\n",
        "더 많은 PDF를 분석하거나 다른 분석 블록을 시도해보세요!\n"
      ]
    },
    {
      "cell_type": "code",
      "execution_count": null,
      "metadata": {},
      "outputs": [],
      "source": [
        "# 추가 분석 실행\n",
        "print(\"🔄 추가 PDF 분석을 시작합니다!\")\n",
        "from analysis_runner import run_pdf_analysis\n",
        "\n",
        "# 앱 상태 확인\n",
        "if 'app' in globals() and app:\n",
        "    run_pdf_analysis(app)\n",
        "else:\n",
        "    print(\"❌ 앱이 초기화되지 않았습니다.\")\n",
        "    print(\"💡 먼저 위의 '메인 앱 실행' 셀을 실행해주세요.\")\n"
      ]
    },
    {
      "cell_type": "markdown",
      "metadata": {},
      "source": [
        "## 🔧 사용자 정의 분석 블록 관리\n",
        "\n",
        "자신만의 분석 블록을 추가하고 관리할 수 있습니다!\n"
      ]
    },
    {
      "cell_type": "code",
      "execution_count": null,
      "metadata": {},
      "outputs": [],
      "source": [
        "# 사용자 정의 블록 관리\n",
        "from block_manager import manage_custom_blocks, show_block_templates, quick_add_template_block\n",
        "\n",
        "print(\"🔧 사용자 정의 분석 블록 관리 도구\")\n",
        "print(\"=\" * 50)\n",
        "\n",
        "# 앱 상태 확인\n",
        "if 'app' in globals() and app:\n",
        "    # 작업 선택\n",
        "    print(\"📋 사용 가능한 작업:\")\n",
        "    print(\"1. 블록 관리 (추가/제거/저장/불러오기)\")\n",
        "    print(\"2. 템플릿 블록 빠른 추가\")\n",
        "    print(\"3. 블록 템플릿 보기\")\n",
        "\n",
        "    choice = input(\"\\n작업을 선택하세요 (1-3): \").strip()\n",
        "\n",
        "    if choice == \"1\":\n",
        "        manage_custom_blocks(app)\n",
        "    elif choice == \"2\":\n",
        "        quick_add_template_block(app)\n",
        "    elif choice == \"3\":\n",
        "        show_block_templates()\n",
        "    else:\n",
        "        print(\"❌ 잘못된 선택입니다.\")\n",
        "else:\n",
        "    print(\"❌ 앱이 초기화되지 않았습니다.\")\n",
        "    print(\"💡 먼저 위의 '메인 앱 실행' 셀을 실행해주세요.\")\n"
      ]
    },
    {
      "cell_type": "markdown",
      "metadata": {},
      "source": [
        "## 📋 블록 템플릿 예시\n",
        "\n",
        "다음과 같은 분석 블록들을 추가할 수 있습니다:\n",
        "\n",
        "### 🌱 환경 분석\n",
        "- 자연환경 요소 (일조, 채광, 통풍)\n",
        "- 에너지 효율성 분석\n",
        "- 친환경 설계 요소\n",
        "\n",
        "### 🛡️ 안전성 분석\n",
        "- 구조적 안전성\n",
        "- 사용자 안전성\n",
        "- 운영 안전성\n",
        "\n",
        "### 💰 경제성 분석\n",
        "- 건설비용 분석\n",
        "- 운영비용 분석\n",
        "- 수익성 분석\n",
        "\n",
        "### 🎨 디자인 분석\n",
        "- 건축적 미학\n",
        "- 공간 구성\n",
        "- 외관 디자인\n",
        "\n",
        "### 📊 성능 분석\n",
        "- 에너지 성능\n",
        "- 구조 성능\n",
        "- 환경 성능\n"
      ]
    },
    {
      "cell_type": "markdown",
      "metadata": {},
      "source": [
        "\n"
      ]
    },
    {
      "cell_type": "code",
      "execution_count": null,
      "metadata": {},
      "outputs": [],
      "source": [
        "\n"
      ]
    }
  ],
  "metadata": {
    "language_info": {
      "name": "python"
    }
  },
  "nbformat": 4,
  "nbformat_minor": 2
}
